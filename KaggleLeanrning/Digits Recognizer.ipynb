{
  "cells": [
    {
      "cell_type": "markdown",
      "metadata": {
        "_cell_guid": "d4c08f48-fe23-4ddb-ac46-d97f05397514",
        "_uuid": "f2156d1dd26a1243e18512002e10872c5bd7271e"
      },
      "outputs": [],
      "execution_count": null,
      "source": "# Digits Recognizer - Keras CNN \n# 数据分析方法解析：手写数字识别\n### 原作者：**Yassine Ghouzam, PhD**\n### 来源： **https://www.kaggle.com/yassineghouzam/digits-recognizer-keras-cnn-0-997-top-8?scriptVersionId=1353798**\n\n* **1. 简介**\n* **2. 数据预处理**\n    * 2.1 载入数据\n    * 2.2 检查数据是否缺失\n    * 2.3 正则化\n    * 2.4 reshape\n    * 2.5 标签编码\n    * 2.6 划分数据测试集\n* **3. CNN**\n    * 3.1 建立模型\n    * 3.2 建立优化器和退火器\n    * 3.3 数据扩增\n* **4. 模型评估**\n    * 4.1 训练和验证损失曲线\n    * 4.2 混淆矩阵\n* **5. 预测和提交**"
    },
    {
      "cell_type": "markdown",
      "metadata": {
        "_cell_guid": "eb88b372-a6e5-40c8-a1c6-c03799165490",
        "_uuid": "e9aff3cf1bb8daa73bec67b970d12195677679f3"
      },
      "outputs": [],
      "execution_count": null,
      "source": "# 1. 简介\n\n采用5层的模型，利用keras建立，在单个i5 GPU下训练2h30得到了99.67%的正确率。数据集是mnist。\n\n<img src=\"http://img1.imagilive.com/0717/mnist-sample.png\" ></img>"
    },
    {
      "cell_type": "code",
      "metadata": {
        "_execution_state": "idle",
        "_cell_guid": "f67b9393-8ea1-4e23-b856-2ce149cfe421",
        "_uuid": "72334cb006d02a4bcfc2a2fe622524eba824c6f8",
        "trusted": false
      },
      "outputs": [],
      "execution_count": 1,
      "source": "import pandas as pd\nimport numpy as np\nimport matplotlib.pyplot as plt\nimport matplotlib.image as mpimg\nimport seaborn as sns\n%matplotlib inline\n\nfrom sklearn.model_selection import train_test_split\nfrom sklearn.metrics import confusion_matrix\nimport itertools\n\nfrom keras.utils.np_utils import to_categorical\nfrom keras.models import Sequential\nfrom keras.layers import Dense, Dropout, Flatten, Conv2D, MaxPool2D\nfrom keras.optimizers import RMSprop\nfrom keras.preprocessing.image import ImageDataGenerator\nfrom keras.callbacks import ReduceLROnPlateau\n\nsns.set(style='white', context='notebook', palette='deep')"
    },
    {
      "cell_type": "markdown",
      "metadata": {
        "collapsed": false,
        "_execution_state": "idle",
        "_cell_guid": "6eb98a4b-a98c-4a40-89f5-25e4887f3a11",
        "_uuid": "86061d98eccaa02efe0dab0fa3884e71fcf4c310"
      },
      "outputs": [],
      "execution_count": null,
      "source": "# 2. 数据预处理\n## 2.1 载入数据"
    },
    {
      "cell_type": "code",
      "metadata": {
        "collapsed": true,
        "_execution_state": "idle",
        "_cell_guid": "5e51d00e-62fd-4141-bf73-50ac4f2da7d0",
        "_uuid": "84bbd5ab8d7895bd430d5ecfe2f7ddf77baa7b74",
        "trusted": false
      },
      "outputs": [],
      "execution_count": 5,
      "source": "train = pd.read_csv(\"../input/train.csv\")\ntest = pd.read_csv(\"../input/test.csv\")"
    },
    {
      "cell_type": "code",
      "metadata": {
        "_execution_state": "idle",
        "_cell_guid": "86570a36-5c20-460a-9dfd-2070548532a7",
        "_uuid": "1213b979d5ed3e0d13824d17d694c79d2ece92fa",
        "trusted": false
      },
      "outputs": [],
      "execution_count": 6,
      "source": "# 划分x_train和y_train数据\nY_train = train[\"label\"]\nX_train = train.drop(labels = [\"label\"],axis = 1) \n\n# 及时释放内存\ndel train \n\n# 对值进行计数\nY_train.value_counts()"
    },
    {
      "cell_type": "markdown",
      "metadata": {
        "_cell_guid": "5aea4062-1790-4987-b739-c4bebd79030f",
        "_uuid": "b7b1b1d36243c885e57374c8b60c5a7e10abe922"
      },
      "outputs": [],
      "execution_count": null,
      "source": "### 结果：数据分布较为均匀"
    },
    {
      "cell_type": "markdown",
      "metadata": {
        "_cell_guid": "5b7d4b66-a140-4fcc-a889-bcef007c880a",
        "_uuid": "5d77934302869925c19128c77e247b3c8ca84d71"
      },
      "outputs": [],
      "execution_count": null,
      "source": "## 2.2 检查缺失值"
    },
    {
      "cell_type": "code",
      "metadata": {
        "_execution_state": "idle",
        "_cell_guid": "ececaa00-2ae3-4d13-b631-438df085b030",
        "_uuid": "cdf27c27e2a5b15e6d7bfc70de7a18c08f3feb7a",
        "trusted": false
      },
      "outputs": [],
      "execution_count": 7,
      "source": "# 检查缺失数据\nX_train.isnull().any().describe()"
    },
    {
      "cell_type": "code",
      "metadata": {
        "_execution_state": "idle",
        "_cell_guid": "92572e80-8543-4e72-8767-5c9be8381b04",
        "_uuid": "a0089bb7ec9aec76373db475399aea24699ae989",
        "trusted": false
      },
      "outputs": [],
      "execution_count": 8,
      "source": "test.isnull().any().describe()"
    },
    {
      "cell_type": "markdown",
      "metadata": {
        "_cell_guid": "6812040d-80ad-43d2-a571-275f4f20067b",
        "_uuid": "2954681f25f0dcbe986e6914396cdbce61db591f"
      },
      "outputs": [],
      "execution_count": null,
      "source": "## 2.3 正则化处理"
    },
    {
      "cell_type": "code",
      "metadata": {
        "collapsed": true,
        "_execution_state": "idle",
        "_cell_guid": "cdc4340b-6e24-4e12-be99-ac806098ff17",
        "_uuid": "b5d4f8fcf2a967e2c7d57daedf95aa8c5ab7f8cb",
        "trusted": false
      },
      "outputs": [],
      "execution_count": 9,
      "source": "# 将0, 255的数据映射到0, 1之间，即可完成正则化\nX_train = X_train / 255.0\ntest = test / 255.0"
    },
    {
      "cell_type": "markdown",
      "metadata": {
        "_cell_guid": "7413df94-bcb9-4f75-b174-c127d4445766",
        "_uuid": "a66741bf1ac597094f3a3166877008feef27c519"
      },
      "outputs": [],
      "execution_count": null,
      "source": "## 2.3 Reshape"
    },
    {
      "cell_type": "code",
      "metadata": {
        "collapsed": true,
        "_execution_state": "idle",
        "_cell_guid": "34b6a5f7-8fd2-4387-8ef4-c9dc19584fed",
        "_uuid": "f0a6ad80dab8e0f2c2e46165ccd9cd82dd162bc3",
        "trusted": false
      },
      "outputs": [],
      "execution_count": 10,
      "source": "# 存储的数据是以784的一维形式，需要reshape为28 x 28 x 1的单通道二维图片数据\nX_train = X_train.values.reshape(-1,28,28,1)\ntest = test.values.reshape(-1,28,28,1)"
    },
    {
      "cell_type": "markdown",
      "metadata": {
        "_cell_guid": "bdb422e2-bdec-444f-97a5-283a1e54bf2c",
        "_uuid": "39b7a31e843bac6b705461bcce89da216b91799e"
      },
      "outputs": [],
      "execution_count": null,
      "source": "## 2.5 标签"
    },
    {
      "cell_type": "code",
      "metadata": {
        "collapsed": true,
        "_execution_state": "idle",
        "_cell_guid": "4b7f3e78-44dc-4561-b1f0-9429ee024cf4",
        "_uuid": "cabefd1478d5c1bdfe57fd6a34395340916a854c",
        "trusted": false
      },
      "outputs": [],
      "execution_count": 11,
      "source": "# 利用to_categorical可以直接独热编码\nY_train = to_categorical(Y_train, num_classes = 10)"
    },
    {
      "cell_type": "markdown",
      "metadata": {
        "_cell_guid": "32152fc3-a570-4d64-8a7d-6c689a4acd33",
        "_uuid": "d8abbbf31483b94e1b29d07c4c8253d1311648a7"
      },
      "outputs": [],
      "execution_count": null,
      "source": "## 2.6 划分数据和数据集"
    },
    {
      "cell_type": "code",
      "metadata": {
        "collapsed": true,
        "_execution_state": "idle",
        "_cell_guid": "3a698301-9759-4279-ae48-fd980f89ea53",
        "_uuid": "6e51c925c6e0f1b936679c9649fef345c853555f",
        "trusted": false
      },
      "outputs": [],
      "execution_count": 12,
      "source": "random_seed = 2"
    },
    {
      "cell_type": "code",
      "metadata": {
        "collapsed": true,
        "_execution_state": "idle",
        "_cell_guid": "dcd25ebb-d845-4d32-9867-082e352b1396",
        "_uuid": "b779ac76d8317647db92d5a88b4098d212d72884",
        "trusted": false
      },
      "outputs": [],
      "execution_count": 13,
      "source": "# 训练时的测试集占10%\nX_train, X_val, Y_train, Y_val = \n    train_test_split(X_train, Y_train, test_size = 0.1, random_state=random_seed)"
    },
    {
      "cell_type": "code",
      "metadata": {
        "_execution_state": "idle",
        "_cell_guid": "5f76131b-4ba0-45f1-a98c-bd4e7d561793",
        "_uuid": "e0dae8943d3d35f075dba3d7ba31bde1d4bf2ff4",
        "trusted": false
      },
      "outputs": [],
      "execution_count": 14,
      "source": "# 预览图片\ng = plt.imshow(X_train[0][:,:,0])"
    },
    {
      "cell_type": "markdown",
      "metadata": {
        "_cell_guid": "d5265777-aeb3-449d-b171-d88cad74c0a4",
        "_uuid": "5fa18b37a9acd9e098bac1d12264b0dd4310fdd3"
      },
      "outputs": [],
      "execution_count": null,
      "source": "# 3. CNN\n## 3.1 Define the model"
    },
    {
      "cell_type": "code",
      "metadata": {
        "collapsed": true,
        "_execution_state": "idle",
        "_cell_guid": "1e0f3f88-2ad7-459e-8e02-aecc5f3511ae",
        "_uuid": "f7991ef6871a26f9fa57acdcd460a69bab53e804",
        "trusted": false
      },
      "outputs": [],
      "execution_count": 15,
      "source": "model = Sequential()\n\nmodel.add(Conv2D(filters = 32, kernel_size = (5,5),padding = 'Same', \n                 activation ='relu', input_shape = (28,28,1)))\nmodel.add(Conv2D(filters = 32, kernel_size = (5,5),padding = 'Same', \n                 activation ='relu'))\nmodel.add(MaxPool2D(pool_size=(2,2)))\nmodel.add(Dropout(0.25))\n\n\nmodel.add(Conv2D(filters = 64, kernel_size = (3,3),padding = 'Same', \n                 activation ='relu'))\nmodel.add(Conv2D(filters = 64, kernel_size = (3,3),padding = 'Same', \n                 activation ='relu'))\nmodel.add(MaxPool2D(pool_size=(2,2), strides=(2,2)))\nmodel.add(Dropout(0.25))\n\n\nmodel.add(Flatten())\nmodel.add(Dense(1024, activation = \"relu\"))\nmodel.add(Dropout(0.5))\nmodel.add(Dense(10, activation = \"softmax\"))\nmodel.summary()"
    },
    {
      "cell_type": "code",
      "metadata": {
        "collapsed": true,
        "_execution_state": "idle",
        "_cell_guid": "a4c55409-6a65-400a-b5e8-a1dc535429c0",
        "_uuid": "420c704367b397b8255fefe9d882b35ac8929b95",
        "trusted": false
      },
      "outputs": [],
      "execution_count": 18,
      "source": "# 建立优化器\noptimizer = RMSprop(lr=0.001, rho=0.9, epsilon=1e-08, decay=0.0)"
    },
    {
      "cell_type": "code",
      "metadata": {
        "collapsed": true,
        "_execution_state": "idle",
        "_cell_guid": "0bd89b79-1a74-40da-af9a-7a76a8b96ff2",
        "_uuid": "b4c0288622227a3cd05479aa765e324dbb852f34",
        "trusted": false
      },
      "outputs": [],
      "execution_count": 19,
      "source": "# Compile\nmodel.compile(optimizer = optimizer , loss = \"categorical_crossentropy\", metrics=[\"accuracy\"])"
    },
    {
      "cell_type": "code",
      "metadata": {
        "collapsed": true,
        "_execution_state": "idle",
        "_cell_guid": "b5987a18-6bbe-42a2-9d31-333ebc4f7af1",
        "_uuid": "c4a5b4e462ec5362c47eef4fcc7956fd4e203307",
        "trusted": false
      },
      "outputs": [],
      "execution_count": 20,
      "source": "# 对于learning_rate建立调整算法\nlearning_rate_reduction = ReduceLROnPlateau(monitor='val_acc', \n                                            patience=3, \n                                            verbose=1, \n                                            factor=0.5, \n                                            min_lr=0.00001)"
    },
    {
      "cell_type": "code",
      "metadata": {
        "collapsed": true,
        "_execution_state": "idle",
        "_cell_guid": "970db455-b393-4b25-806d-92c6766c12c0",
        "_uuid": "26b0647c46efdb6b1096cf7335a7bf2a3417543a",
        "trusted": false
      },
      "outputs": [],
      "execution_count": 21,
      "source": "epochs = 2 \nbatch_size = 86"
    },
    {
      "cell_type": "markdown",
      "metadata": {
        "_cell_guid": "241a0f4f-13f5-4b13-be1e-4e3e4a714c06",
        "_uuid": "f24df64b223e0177c94025b6767ab19b722c5386"
      },
      "outputs": [],
      "execution_count": null,
      "source": "## 3.3 数据扩增"
    },
    {
      "cell_type": "markdown",
      "metadata": {
        "_cell_guid": "e2d41e30-0724-40fb-a901-750e514ba9f9",
        "_uuid": "9e498b91419439f0fa791e595f202d9a0d56ad6b"
      },
      "outputs": [],
      "execution_count": null,
      "source": "为了防止overfitting，将训练集的数据进行微小变动实现扩增，比如图片经过缩放和旋转。这样能够使训练出的模型验证的验证误差更小"
    },
    {
      "cell_type": "code",
      "metadata": {
        "collapsed": true,
        "_execution_state": "idle",
        "_cell_guid": "ade93d2d-90c6-4401-af95-f7d65f8c0a20",
        "_uuid": "d4e9e1ade3c04f9ca4d8cd44e799f9e09524d5a1",
        "trusted": false
      },
      "outputs": [],
      "execution_count": 17,
      "source": "# 没有数据扩增下的accuracy为 0.98114\n#history = model.fit(X_train, Y_train, batch_size = batch_size, epochs = epochs, \n#          validation_data = (X_val, Y_val), verbose = 2)"
    },
    {
      "cell_type": "code",
      "metadata": {
        "_execution_state": "idle",
        "_cell_guid": "b342befe-1a6f-44bf-8dab-28033a729122",
        "_uuid": "21d6192c87d92d497c797656474bccd9cefc5647",
        "trusted": false
      },
      "outputs": [],
      "execution_count": 22,
      "source": "# 数据扩增之后，accuracy达到 0.99286\n# 主要包括改变平均值，按方差分类，ZCA白化，缩放，旋转和位移等\ndatagen = ImageDataGenerator(\n        featurewise_center=False,  # set input mean to 0 over the dataset\n        samplewise_center=False,  # set each sample mean to 0\n        featurewise_std_normalization=False,  # divide inputs by std of the dataset\n        samplewise_std_normalization=False,  # divide each input by its std\n        zca_whitening=False,  # apply ZCA whitening\n        rotation_range=10,  # randomly rotate images in the range (degrees, 0 to 180)\n        zoom_range = 0.1, # Randomly zoom image \n        width_shift_range=0.1,  # randomly shift images horizontally (fraction of total width)\n        height_shift_range=0.1,  # randomly shift images vertically (fraction of total height)\n        horizontal_flip=False,  # randomly flip images\n        vertical_flip=False)  # randomly flip images\n# 作用于数据集\ndatagen.fit(X_train)"
    },
    {
      "cell_type": "code",
      "metadata": {
        "_execution_state": "idle",
        "_cell_guid": "b453af8d-9736-43e3-b486-7a1cd7dd8909",
        "_uuid": "cf36b3d029f95b553be02d612e097a9769ee8252",
        "trusted": false
      },
      "outputs": [],
      "execution_count": 19,
      "source": "# 模型训练，callback是每次训练执行的步骤，采用datagen得到经过扩增后的x_train和y_train进行训练\nhistory = model.fit_generator(datagen.flow(X_train,Y_train, batch_size=batch_size),\n                              epochs = epochs, validation_data = (X_val,Y_val),\n                              verbose = 2, steps_per_epoch=X_train.shape[0] // batch_size\n                              , callbacks=[learning_rate_reduction])"
    },
    {
      "cell_type": "markdown",
      "metadata": {
        "_cell_guid": "e758621d-b27b-40ff-a93f-bebd2e0e5243",
        "_uuid": "0a1834f2a9f2db15dcaba4a84004b9627d714469"
      },
      "outputs": [],
      "execution_count": null,
      "source": "# 4. 模型评估\n## 4.1 训练和验证曲线"
    },
    {
      "cell_type": "code",
      "metadata": {
        "_execution_state": "idle",
        "_cell_guid": "eb4b1b73-cbd4-40e8-9790-066fcef4c4c0",
        "_uuid": "3a831860dd5bb65c8ead1ddcf4ae18ae20dd7f3e",
        "trusted": false
      },
      "outputs": [],
      "execution_count": 23,
      "source": "# 训练集和验证集的loss差异，可以检查是否过拟合等\nfig, ax = plt.subplots(2,1)\nax[0].plot(history.history['loss'], color='b', label=\"Training loss\")\nax[0].plot(history.history['val_loss'], color='r', label=\"validation loss\",axes =ax[0])\nlegend = ax[0].legend(loc='best', shadow=True)\n\nax[1].plot(history.history['acc'], color='b', label=\"Training accuracy\")\nax[1].plot(history.history['val_acc'], color='r',label=\"Validation accuracy\")\nlegend = ax[1].legend(loc='best', shadow=True)"
    },
    {
      "cell_type": "markdown",
      "metadata": {
        "_cell_guid": "de1c65bd-4a88-4351-9f4b-562e72e7e0fd",
        "_uuid": "63698d7d51381b33892ce164b0f21930abb3e937"
      },
      "outputs": [],
      "execution_count": null,
      "source": "## 4.2 混淆矩阵绘制"
    },
    {
      "cell_type": "code",
      "metadata": {
        "_execution_state": "idle",
        "_cell_guid": "11361e73-8250-4bf5-a353-b0f8ea83e659",
        "_uuid": "16e161179bf1b51ba66c39b2cead883f1db3a9c7",
        "trusted": false
      },
      "outputs": [],
      "execution_count": 24,
      "source": "\ndef plot_confusion_matrix(cm, classes,\n                          normalize=False,\n                          title='Confusion matrix',\n                          cmap=plt.cm.Blues):\n    \"\"\"\n    This function prints and plots the confusion matrix.\n    Normalization can be applied by setting `normalize=True`.\n    \"\"\"\n    plt.imshow(cm, interpolation='nearest', cmap=cmap)\n    plt.title(title)\n    plt.colorbar()\n    tick_marks = np.arange(len(classes))\n    plt.xticks(tick_marks, classes, rotation=45)\n    plt.yticks(tick_marks, classes)\n\n    if normalize:\n        cm = cm.astype('float') / cm.sum(axis=1)[:, np.newaxis]\n\n    thresh = cm.max() / 2.\n    for i, j in itertools.product(range(cm.shape[0]), range(cm.shape[1])):\n        plt.text(j, i, cm[i, j],\n                 horizontalalignment=\"center\",\n                 color=\"white\" if cm[i, j] > thresh else \"black\")\n\n    plt.tight_layout()\n    plt.ylabel('True label')\n    plt.xlabel('Predicted label')\n\n# Predict the values from the validation dataset\nY_pred = model.predict(X_val)\n# Convert predictions classes to one hot vectors \nY_pred = np.argmax(Y_pred,axis = 1) \n# Convert validation observations to one hot vectors\nY_true = np.argmax(Y_val,axis = 1) \n# compute the confusion matrix\nconfusion_mtx = confusion_matrix(Y_true, Y_pred) \n# plot the confusion matrix\nplot_confusion_matrix(confusion_mtx, classes = range(10)) "
    },
    {
      "cell_type": "code",
      "metadata": {
        "collapsed": true,
        "_execution_state": "idle",
        "_cell_guid": "05ff3b9f-c3bb-4cec-a8c2-2c128e8f15b3",
        "_uuid": "7f17e7bf0a54a01a52fef2d554780f6bc6580dc6",
        "trusted": false
      },
      "outputs": [],
      "execution_count": 22,
      "source": "# 预测结果\nresults = model.predict(test)\n\n# 从结果中选取最大值所在的位置\nresults = np.argmax(results,axis = 1)\n# 将结果写为pd格式\nresults = pd.Series(results,name=\"Label\")"
    },
    {
      "cell_type": "code",
      "metadata": {
        "collapsed": true,
        "_execution_state": "idle",
        "_cell_guid": "b5f1f39f-13b8-439a-8913-0f120e3d47a9",
        "_uuid": "369dfaab09240f3f12bcff91953ffd315ab84985",
        "trusted": false
      },
      "outputs": [],
      "execution_count": 23,
      "source": "submission = pd.concat([pd.Series(range(1,28001),name = \"ImageId\"),results],axis = 1)\n\nsubmission.to_csv(\"cnn_mnist_datagen.csv\",index=False)"
    }
  ],
  "metadata": {
    "kernelspec": {
      "display_name": "Python 3",
      "language": "python",
      "name": "python3"
    },
    "language_info": {
      "name": "python",
      "version": "3.6.1",
      "mimetype": "text/x-python",
      "codemirror_mode": {
        "name": "ipython",
        "version": 3
      },
      "pygments_lexer": "ipython3",
      "nbconvert_exporter": "python",
      "file_extension": ".py"
    }
  },
  "nbformat": 4,
  "nbformat_minor": 2
}